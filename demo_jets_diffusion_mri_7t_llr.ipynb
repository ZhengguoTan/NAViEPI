{
  "nbformat": 4,
  "nbformat_minor": 0,
  "metadata": {
    "colab": {
      "provenance": [],
      "gpuType": "T4"
    },
    "kernelspec": {
      "name": "python3",
      "display_name": "Python 3"
    },
    "language_info": {
      "name": "python"
    },
    "accelerator": "GPU",
    "gpuClass": "standard"
  },
  "cells": [
    {
      "cell_type": "markdown",
      "source": [
        "# High-Dimensional Diffusion MRI Reconstruction Totorial\n",
        "\n",
        "### Introduction:\n",
        "\n",
        "  * High-dimensional MRI (HD-MRI) refers to the acquisition of more than 2D image data. Typical examples are dynamic MRI, quantitative parameter mapping, and diffusion MRI.\n",
        "\n",
        "  * This notebook \n",
        "\n",
        "    1. extends the linear operator abstraction framework in [SigPy](https://github.com/mikgroup/sigpy) to achieve HD-MRI reconstruction;\n",
        "    2. utilizes data acquired from an advanced high-resolution diffusion MRI pulse sequence at 7 T, building upon multi-shot echo-planar imaging (EPI).\n",
        "    3. demonstrates a comprehensive forward modeling comprising **shot-to-shot phase variation**, based on which [MUSE](https://doi.org/10.1016/j.neuroimage.2013.01.038) reconstruction is conducted;\n",
        "    3. constrcuts HD regularization terms, e.g. overlapping locally low rank (LLR), for HD-MRI reconstruction.\n",
        "\n",
        "### Authors:\n",
        "\n",
        "  * Zhengguo Tan <zhengguo.tan@gmail.com>\n",
        "  * Patrick A Liebig <patrick.liebig@siemens-healthineers.com>\n",
        "  * Robin M Heidemann <robin.heidemann@siemens-healthineers.com>\n",
        "  * Fredrik B Laun <Frederik.Laun@uk-erlangen.de>\n",
        "  * Florian Knoll <florian.knoll@fau.de>"
      ],
      "metadata": {
        "id": "So0kakw9nHzL"
      }
    },
    {
      "cell_type": "markdown",
      "source": [
        "# 1. Setup"
      ],
      "metadata": {
        "id": "k2CxvCEutqrJ"
      }
    },
    {
      "cell_type": "markdown",
      "source": [
        "## Connect to a GPU on `Google Colab`\n",
        "\n",
        "  * Go to `Edit` > `Notebook settings` > select `GPU` > click `Save`;\n",
        "  * Now we can verify that we allocate a GPU for this notebook."
      ],
      "metadata": {
        "id": "GVmT87ZFuYT6"
      }
    },
    {
      "cell_type": "code",
      "source": [
        "!nvidia-smi\n",
        "!nvcc --version"
      ],
      "metadata": {
        "colab": {
          "base_uri": "https://localhost:8080/"
        },
        "id": "H0GzugLmuVc9",
        "outputId": "564347d2-8f0d-4bd3-bdcf-601ca866b359"
      },
      "execution_count": null,
      "outputs": [
        {
          "output_type": "stream",
          "name": "stdout",
          "text": [
            "Mon May 29 14:32:31 2023       \n",
            "+-----------------------------------------------------------------------------+\n",
            "| NVIDIA-SMI 525.85.12    Driver Version: 525.85.12    CUDA Version: 12.0     |\n",
            "|-------------------------------+----------------------+----------------------+\n",
            "| GPU  Name        Persistence-M| Bus-Id        Disp.A | Volatile Uncorr. ECC |\n",
            "| Fan  Temp  Perf  Pwr:Usage/Cap|         Memory-Usage | GPU-Util  Compute M. |\n",
            "|                               |                      |               MIG M. |\n",
            "|===============================+======================+======================|\n",
            "|   0  Tesla T4            Off  | 00000000:00:04.0 Off |                    0 |\n",
            "| N/A   65C    P8    12W /  70W |      0MiB / 15360MiB |      0%      Default |\n",
            "|                               |                      |                  N/A |\n",
            "+-------------------------------+----------------------+----------------------+\n",
            "                                                                               \n",
            "+-----------------------------------------------------------------------------+\n",
            "| Processes:                                                                  |\n",
            "|  GPU   GI   CI        PID   Type   Process name                  GPU Memory |\n",
            "|        ID   ID                                                   Usage      |\n",
            "|=============================================================================|\n",
            "|  No running processes found                                                 |\n",
            "+-----------------------------------------------------------------------------+\n",
            "nvcc: NVIDIA (R) Cuda compiler driver\n",
            "Copyright (c) 2005-2022 NVIDIA Corporation\n",
            "Built on Wed_Sep_21_10:33:58_PDT_2022\n",
            "Cuda compilation tools, release 11.8, V11.8.89\n",
            "Build cuda_11.8.r11.8/compiler.31833905_0\n"
          ]
        }
      ]
    },
    {
      "cell_type": "markdown",
      "source": [
        "## Install SigPy\n",
        "\n",
        "  * The original [SigPy](https://github.com/mikgroup/sigpy.git) was fored for the development of HD-MRI reconstruction and is available here: https://github.com/ZhengguoTan/sigpy.git"
      ],
      "metadata": {
        "id": "zQiyNhvEvCJ4"
      }
    },
    {
      "cell_type": "code",
      "source": [
        "!git clone https://github.com/ZhengguoTan/sigpy.git"
      ],
      "metadata": {
        "colab": {
          "base_uri": "https://localhost:8080/"
        },
        "id": "ZD_HjLp5vQtH",
        "outputId": "0af1eb6f-2a5d-4f1e-e8d3-05f5dd2449a6"
      },
      "execution_count": null,
      "outputs": [
        {
          "output_type": "stream",
          "name": "stdout",
          "text": [
            "Cloning into 'sigpy'...\n",
            "remote: Enumerating objects: 6105, done.\u001b[K\n",
            "remote: Counting objects: 100% (641/641), done.\u001b[K\n",
            "remote: Compressing objects: 100% (235/235), done.\u001b[K\n",
            "remote: Total 6105 (delta 424), reused 555 (delta 392), pack-reused 5464\u001b[K\n",
            "Receiving objects: 100% (6105/6105), 3.73 MiB | 10.92 MiB/s, done.\n",
            "Resolving deltas: 100% (4444/4444), done.\n"
          ]
        }
      ]
    },
    {
      "cell_type": "code",
      "source": [
        "%cd /content/sigpy\n",
        "!git log -1"
      ],
      "metadata": {
        "colab": {
          "base_uri": "https://localhost:8080/"
        },
        "id": "AlYBfUbnknTb",
        "outputId": "931649e2-4125-4e74-a9ed-ad559081d2c5"
      },
      "execution_count": null,
      "outputs": [
        {
          "output_type": "stream",
          "name": "stdout",
          "text": [
            "/content/sigpy\n",
            "\u001b[33mcommit 0771b52d0ef9971b2b834fe992db608057909235\u001b[m\u001b[33m (\u001b[m\u001b[1;36mHEAD -> \u001b[m\u001b[1;32mmaster\u001b[m\u001b[33m, \u001b[m\u001b[1;31morigin/master\u001b[m\u001b[33m, \u001b[m\u001b[1;31morigin/HEAD\u001b[m\u001b[33m)\u001b[m\n",
            "Author: Zhengguo Tan <zhengguo.tan@gmail.com>\n",
            "Date:   Mon Dec 26 13:51:41 2022 +0100\n",
            "\n",
            "    add keepdims option in Sum and Tile linop\n"
          ]
        }
      ]
    },
    {
      "cell_type": "code",
      "source": [
        "!pip install -e /content/sigpy"
      ],
      "metadata": {
        "colab": {
          "base_uri": "https://localhost:8080/"
        },
        "id": "lcJzIxkkkp_d",
        "outputId": "41975dd9-0a9d-4fa0-934d-56e4be1fa696"
      },
      "execution_count": null,
      "outputs": [
        {
          "output_type": "stream",
          "name": "stdout",
          "text": [
            "Looking in indexes: https://pypi.org/simple, https://us-python.pkg.dev/colab-wheels/public/simple/\n",
            "Obtaining file:///content/sigpy\n",
            "  Preparing metadata (setup.py) ... \u001b[?25l\u001b[?25hdone\n",
            "Requirement already satisfied: numpy in /usr/local/lib/python3.10/dist-packages (from sigpy==0.1.25) (1.22.4)\n",
            "Requirement already satisfied: pywavelets in /usr/local/lib/python3.10/dist-packages (from sigpy==0.1.25) (1.4.1)\n",
            "Requirement already satisfied: numba in /usr/local/lib/python3.10/dist-packages (from sigpy==0.1.25) (0.56.4)\n",
            "Requirement already satisfied: scipy in /usr/local/lib/python3.10/dist-packages (from sigpy==0.1.25) (1.10.1)\n",
            "Requirement already satisfied: tqdm in /usr/local/lib/python3.10/dist-packages (from sigpy==0.1.25) (4.65.0)\n",
            "Requirement already satisfied: llvmlite<0.40,>=0.39.0dev0 in /usr/local/lib/python3.10/dist-packages (from numba->sigpy==0.1.25) (0.39.1)\n",
            "Requirement already satisfied: setuptools in /usr/local/lib/python3.10/dist-packages (from numba->sigpy==0.1.25) (67.7.2)\n",
            "Installing collected packages: sigpy\n",
            "  Running setup.py develop for sigpy\n",
            "Successfully installed sigpy-0.1.25\n"
          ]
        }
      ]
    },
    {
      "cell_type": "markdown",
      "source": [
        "# 2. Build a Shot-Phase-Informed Parallel Imaging Reconstruction"
      ],
      "metadata": {
        "id": "zb6mv6TyNjjv"
      }
    },
    {
      "cell_type": "markdown",
      "source": [
        "(1) Read in data\n",
        "\n",
        "Data  | Diffusion encodings | Shots | Coils | Slices | Phase encoding | Readout \n",
        "--    | --                  | --    | --    | --     | --             | -- \n",
        "imaging echo | 4  | 5 | 32 | 1 | 440 | 440 \n",
        "shot phase | 4  | 5 | 32 | 2 | 440 | 440\n",
        "coil sensitivity maps | - | - | 32 | 2 | 440 | 440\n"
      ],
      "metadata": {
        "id": "FbJ88KQIfltL"
      }
    },
    {
      "cell_type": "markdown",
      "source": [
        "# 4. LLR Regularization"
      ],
      "metadata": {
        "id": "k9P9a1gHNnXl"
      }
    },
    {
      "cell_type": "markdown",
      "source": [
        "The core concept of LLR is to enforce low rankness in local patches."
      ],
      "metadata": {
        "id": "yQIDk0KK2B02"
      }
    },
    {
      "cell_type": "code",
      "source": [
        "import matplotlib.pyplot as plt\n",
        "from matplotlib.patches import Rectangle\n",
        "import numpy as np\n",
        "import imageio.v2 as imageio\n",
        "\n",
        "blocks = [2, 2]\n",
        "strides = [1, 1]\n",
        "\n",
        "sepa = 3.2\n",
        "\n",
        "nrows = 3\n",
        "ncols = 4\n",
        "nvars = 5\n",
        "Z = np.arange(nrows * ncols * nvars).reshape(ncols, nrows, nvars) ** 0.6\n",
        "Z = Z.transpose()\n",
        "x = np.arange(ncols + 1)\n",
        "y = np.arange(nrows + 1)\n",
        "\n",
        "\n",
        "len_x = (ncols - blocks[-1] + strides[-1]) // strides[-1]\n",
        "len_y = (ncols - blocks[-2] + strides[-2]) // strides[-2]\n",
        "\n",
        "fig_cnt = 0\n",
        "frames = []\n",
        "\n",
        "for ind_y in range(len_y, 1, -1):\n",
        "  for ind_x in range(0, len_x, 1):\n",
        "\n",
        "    fig, ax = plt.subplots()\n",
        "\n",
        "    # plot arrays\n",
        "    for ind in range(nvars):\n",
        "      Z1 = Z[ind, ...]\n",
        "      ax.pcolormesh(x-sepa*ind, y-sepa*ind, Z1, shading='flat', \n",
        "                    vmin=Z.min(), vmax=Z.max())\n",
        "    \n",
        "    # draw arrow\n",
        "    offset = 4\n",
        "    ax.annotate('Contrast', \n",
        "                xytext=(x[0] - 1, y[0] + offset),\n",
        "                xy=(x[0] - sepa*(nvars-1), y[0] - sepa*(nvars-1) + offset),\n",
        "                arrowprops=(dict(arrowstyle='<-')))\n",
        "\n",
        "    # plot blocks\n",
        "    for ind_z in range(nvars):\n",
        "\n",
        "      rect = Rectangle((ind_x - sepa*ind_z, ind_y-sepa*ind_z), \n",
        "                       blocks[-1], -blocks[-2],\n",
        "                       facecolor='none', edgecolor='k', linestyle='--')\n",
        "      ax.add_patch(rect)\n",
        "\n",
        "    # plot flattened blocks\n",
        "    Z2 = Z[:, ind_y-blocks[-2] : ind_y, ind_x : ind_x+blocks[-1]]\n",
        "    Z2 = np.reshape(Z2, [nvars, -1]).transpose()\n",
        "\n",
        "    Z2_shape = Z2.shape\n",
        "\n",
        "    ax.pcolormesh(np.arange(Z2_shape[-1]+1)+6, np.arange(Z2_shape[-2]+1)-8, Z2, \n",
        "                  shading='flat', vmin=Z.min(), vmax=Z.max())\n",
        "\n",
        "    ax.set_aspect('equal')\n",
        "    ax.set_axis_off()\n",
        "\n",
        "    fig_name = f'/content/frame_{fig_cnt}.png'\n",
        "    plt.savefig(fig_name)\n",
        "\n",
        "    fig_cnt = fig_cnt + 1\n",
        "\n",
        "    plt.close()\n",
        "    \n",
        "    # Append the current image to the list of frames\n",
        "    frames.append(imageio.imread(fig_name))\n",
        "\n",
        "\n",
        "# Save the frames as a GIF\n",
        "output_file = '/content/llr_animation.gif'\n",
        "# Adjust the duration between frames as needed\n",
        "imageio.mimsave(output_file, frames, duration=1)\n",
        "\n",
        "# display gif\n",
        "from IPython.display import Image\n",
        "Image(open(output_file, 'rb').read())"
      ],
      "metadata": {
        "id": "9s3hs_FHXpQJ",
        "colab": {
          "base_uri": "https://localhost:8080/"
        },
        "outputId": "d9b96981-18a3-4f94-85f8-e7f89177f436"
      },
      "execution_count": null,
      "outputs": [
        {
          "output_type": "execute_result",
          "data": {
            "image/png": "[encoded data removed]",
            "text/plain": [
              "<IPython.core.display.Image object>"
            ]
          },
          "metadata": {},
          "execution_count": 5
        }
      ]
    },
    {
      "cell_type": "markdown",
      "source": [
        "Overlapping blocks lead to duplicate values in the adjoint operator."
      ],
      "metadata": {
        "id": "d12j_s5V1_QV"
      }
    },
    {
      "cell_type": "code",
      "source": [
        "import numpy as np\n",
        "import sigpy as sp\n",
        "from sigpy import linop\n",
        "\n",
        "x = np.arange(60).reshape([5, 3, 4])\n",
        "\n",
        "T = linop.ArrayToBlocks(x.shape, blk_shape=(2, 2), blk_strides=(1, 1))\n",
        "\n",
        "blocks = T * x\n",
        "\n",
        "y = T.H * T * x\n",
        "\n",
        "print('>>>>> \\n3D array: ')\n",
        "print(x)\n",
        "\n",
        "print('>>>>> \\nblocks shape: ')\n",
        "print(blocks.shape)\n",
        "\n",
        "print('>>>>> \\ny: ')\n",
        "print(y)"
      ],
      "metadata": {
        "colab": {
          "base_uri": "https://localhost:8080/"
        },
        "id": "ajTgxbfvSBQy",
        "outputId": "2512f3ef-f449-4e21-9348-235e666e6e36"
      },
      "execution_count": null,
      "outputs": [
        {
          "output_type": "stream",
          "name": "stdout",
          "text": [
            ">>>>> \n",
            "3D array: \n",
            "[[[ 0  1  2  3]\n",
            "  [ 4  5  6  7]\n",
            "  [ 8  9 10 11]]\n",
            "\n",
            " [[12 13 14 15]\n",
            "  [16 17 18 19]\n",
            "  [20 21 22 23]]\n",
            "\n",
            " [[24 25 26 27]\n",
            "  [28 29 30 31]\n",
            "  [32 33 34 35]]\n",
            "\n",
            " [[36 37 38 39]\n",
            "  [40 41 42 43]\n",
            "  [44 45 46 47]]\n",
            "\n",
            " [[48 49 50 51]\n",
            "  [52 53 54 55]\n",
            "  [56 57 58 59]]]\n",
            ">>>>> \n",
            "blocks shape: \n",
            "(5, 2, 3, 2, 2)\n",
            ">>>>> \n",
            "y: \n",
            "[[[  0   2   4   3]\n",
            "  [  8  20  24  14]\n",
            "  [  8  18  20  11]]\n",
            "\n",
            " [[ 12  26  28  15]\n",
            "  [ 32  68  72  38]\n",
            "  [ 20  42  44  23]]\n",
            "\n",
            " [[ 24  50  52  27]\n",
            "  [ 56 116 120  62]\n",
            "  [ 32  66  68  35]]\n",
            "\n",
            " [[ 36  74  76  39]\n",
            "  [ 80 164 168  86]\n",
            "  [ 44  90  92  47]]\n",
            "\n",
            " [[ 48  98 100  51]\n",
            "  [104 212 216 110]\n",
            "  [ 56 114 116  59]]]\n"
          ]
        }
      ]
    },
    {
      "cell_type": "markdown",
      "source": [
        "We can fix this problem using a scaling matrix"
      ],
      "metadata": {
        "id": "r1i-lKph1mnv"
      }
    },
    {
      "cell_type": "code",
      "source": [
        "# now we compute the scaling matrix to correct the overlapping problem\n",
        "I = np.ones_like(x)\n",
        "S = T.H * T * I\n",
        "\n",
        "# now we can apply this caling matrix to correct for y\n",
        "y_corr = (T.H * T * x) / S\n",
        "\n",
        "print('>>>>> \\n3D array: ')\n",
        "print(x)\n",
        "\n",
        "print('>>>>> \\ny_corr: ')\n",
        "print(y_corr)"
      ],
      "metadata": {
        "colab": {
          "base_uri": "https://localhost:8080/"
        },
        "id": "oQ-85bbI2mHt",
        "outputId": "5d978832-f14e-423a-f694-19a2a3d3633b"
      },
      "execution_count": null,
      "outputs": [
        {
          "output_type": "stream",
          "name": "stdout",
          "text": [
            ">>>>> \n",
            "3D array: \n",
            "[[[ 0  1  2  3]\n",
            "  [ 4  5  6  7]\n",
            "  [ 8  9 10 11]]\n",
            "\n",
            " [[12 13 14 15]\n",
            "  [16 17 18 19]\n",
            "  [20 21 22 23]]\n",
            "\n",
            " [[24 25 26 27]\n",
            "  [28 29 30 31]\n",
            "  [32 33 34 35]]\n",
            "\n",
            " [[36 37 38 39]\n",
            "  [40 41 42 43]\n",
            "  [44 45 46 47]]\n",
            "\n",
            " [[48 49 50 51]\n",
            "  [52 53 54 55]\n",
            "  [56 57 58 59]]]\n",
            ">>>>> \n",
            "y_corr: \n",
            "[[[ 0.  1.  2.  3.]\n",
            "  [ 4.  5.  6.  7.]\n",
            "  [ 8.  9. 10. 11.]]\n",
            "\n",
            " [[12. 13. 14. 15.]\n",
            "  [16. 17. 18. 19.]\n",
            "  [20. 21. 22. 23.]]\n",
            "\n",
            " [[24. 25. 26. 27.]\n",
            "  [28. 29. 30. 31.]\n",
            "  [32. 33. 34. 35.]]\n",
            "\n",
            " [[36. 37. 38. 39.]\n",
            "  [40. 41. 42. 43.]\n",
            "  [44. 45. 46. 47.]]\n",
            "\n",
            " [[48. 49. 50. 51.]\n",
            "  [52. 53. 54. 55.]\n",
            "  [56. 57. 58. 59.]]]\n"
          ]
        }
      ]
    },
    {
      "cell_type": "markdown",
      "source": [
        "# 5. Diffusion MRI Reconstruction with Spatial-Diffusion LLR Regularization"
      ],
      "metadata": {
        "id": "Wx-eNEJrNrhJ"
      }
    },
    {
      "cell_type": "code",
      "source": [],
      "metadata": {
        "id": "AWmNhobfN1Mc"
      },
      "execution_count": null,
      "outputs": []
    },
    {
      "cell_type": "markdown",
      "source": [
        "**Thank you for your attention!**"
      ],
      "metadata": {
        "id": "8MNL9JBM4Tmv"
      }
    }
  ]
}