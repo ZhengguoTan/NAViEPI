{
 "cells": [
  {
   "cell_type": "code",
   "execution_count": 1,
   "metadata": {},
   "outputs": [
    {
     "name": "stdout",
     "output_type": "stream",
     "text": [
      "> current directory:  /home/atuin/b143dc/b143dc15/Softwares/scripts_diff_jets_7t/figure_gt\n",
      "> data directory:  /home/atuin/b143dc/b143dc15/Softwares/scripts_diff_jets_7t/data\n"
     ]
    }
   ],
   "source": [
    "import h5py\n",
    "import matplotlib.pyplot as plt\n",
    "import numpy as np\n",
    "from sigpy.mri import retro, sms\n",
    "\n",
    "import os\n",
    "DIR = os.getcwd()\n",
    "print('> current directory: ', DIR)\n",
    "\n",
    "DAT_DIR = DIR.rsplit('/', 1)[0] + '/data'\n",
    "print('> data directory: ', DAT_DIR)"
   ]
  },
  {
   "attachments": {},
   "cell_type": "markdown",
   "metadata": {},
   "source": [
    "* read in k-space data and coils"
   ]
  },
  {
   "cell_type": "code",
   "execution_count": 2,
   "metadata": {},
   "outputs": [
    {
     "name": "stdout",
     "output_type": "stream",
     "text": [
      "> kdat shape:  (1, 1, 1, 1, 1, 1, 1, 20, 1, 1, 1, 1, 1, 200, 32, 200)\n",
      "> N_band 3 N_segments 4 N_slices 141 Accel_PE 1\n",
      "> coil1 shape:  (32, 3, 200, 200)\n"
     ]
    }
   ],
   "source": [
    "N_shot = 4\n",
    "\n",
    "f = h5py.File(DAT_DIR + '/' + str(N_shot) + 'shot_020dir_1.0mm_kdat_slice_013.h5', 'r')\n",
    "kdat = f['kdat'][:]\n",
    "N_band = f['MB'][()]\n",
    "N_segments = f['Segments'][()]\n",
    "N_slices = f['Slices'][()]\n",
    "N_Accel_PE = f['Accel_PE'][()]\n",
    "f.close()\n",
    "\n",
    "print('> kdat shape: ', kdat.shape)\n",
    "print('> N_band ' + str(N_band) + ' N_segments ' + str(N_segments) + ' N_slices ' + str(N_slices) + ' Accel_PE ' + str(N_Accel_PE))\n",
    "\n",
    "f = h5py.File(DAT_DIR + '/' + str(N_shot) + 'shot_020dir_1.0mm_coil.h5', 'r')\n",
    "coil = f['coil'][:]\n",
    "\n",
    "coil1 = coil[:, [27, 74, 121], :, :]\n",
    "print('> coil1 shape: ', coil1.shape)\n",
    "\n",
    "N_y, N_x = coil1.shape[-2:]"
   ]
  },
  {
   "attachments": {},
   "cell_type": "markdown",
   "metadata": {},
   "source": [
    "* compute SMS phase shift"
   ]
  },
  {
   "cell_type": "code",
   "execution_count": 3,
   "metadata": {},
   "outputs": [
    {
     "name": "stdout",
     "output_type": "stream",
     "text": [
      " > sms: yshift  [0.0, 1.0, 2.0]\n"
     ]
    }
   ],
   "source": [
    "# SMS phase shift\n",
    "yshift = []\n",
    "for b in range(N_band):\n",
    "    yshift.append(b / N_Accel_PE)\n",
    "\n",
    "sms_phase = sms.get_sms_phase_shift([N_band, N_y, N_x], \n",
    "                                    MB=N_band, \n",
    "                                    yshift=yshift)"
   ]
  },
  {
   "attachments": {},
   "cell_type": "markdown",
   "metadata": {},
   "source": [
    "* split k-space data into shots"
   ]
  },
  {
   "cell_type": "code",
   "execution_count": 4,
   "metadata": {},
   "outputs": [
    {
     "name": "stdout",
     "output_type": "stream",
     "text": [
      "> kdat_prep shape:  (20, 4, 32, 1, 200, 200)\n"
     ]
    }
   ],
   "source": [
    "kdat = np.squeeze(kdat)\n",
    "kdat = np.swapaxes(kdat, -2, -3)\n",
    "\n",
    "N_diff = kdat.shape[-4]\n",
    "kdat_prep = []\n",
    "for d in range(N_diff):\n",
    "    k = retro.split_shots(kdat[d, ...], shots=N_segments)\n",
    "    kdat_prep.append(k)\n",
    "\n",
    "kdat_prep = np.array(kdat_prep)\n",
    "kdat_prep = kdat_prep[..., None, :, :]  # 6 dim\n",
    "\n",
    "N_diff = kdat_prep.shape[0]\n",
    "\n",
    "print('> kdat_prep shape: ', kdat_prep.shape)"
   ]
  },
  {
   "attachments": {},
   "cell_type": "markdown",
   "metadata": {},
   "source": [
    "* plot central k-space region of every segment"
   ]
  },
  {
   "cell_type": "code",
   "execution_count": 5,
   "metadata": {},
   "outputs": [
    {
     "data": {
      "image/png": "[encoded data removed]",
      "text/plain": [
       "<Figure size 2400x400 with 4 Axes>"
      ]
     },
     "metadata": {},
     "output_type": "display_data"
    }
   ],
   "source": [
    "f, ax = plt.subplots(1, 4, figsize=(24, 4))\n",
    "\n",
    "for s in range(N_segments):\n",
    "    ax[s].imshow(abs(np.squeeze(kdat_prep[0, s, 0, 0, N_y//4:N_y//2, N_x//4:N_x//2])), cmap='gray', vmin=0, vmax=1e-5, interpolation='none')\n",
    "    # ax[s].imshow(abs(np.squeeze(kdat_prep[0, s, 0, 0, :, :])), cmap='gray', vmin=0, vmax=1e-5, interpolation='none')\n",
    "    ax[s].set_title('Shot #' + str(s+1))\n",
    "    ax[s].set_axis_off()\n",
    "\n",
    "plt.show()"
   ]
  },
  {
   "attachments": {},
   "cell_type": "markdown",
   "metadata": {},
   "source": [
    "* retrospectively undersampling"
   ]
  },
  {
   "cell_type": "code",
   "execution_count": 6,
   "metadata": {},
   "outputs": [
    {
     "name": "stdout",
     "output_type": "stream",
     "text": [
      "> kdat_retr_shape:  [20, 1, 32, 1, 200, 200]\n",
      "> diff 00 segment_ind [0]\n",
      "> diff 01 segment_ind [1]\n",
      "> diff 02 segment_ind [2]\n",
      "> diff 03 segment_ind [3]\n",
      "> diff 04 segment_ind [0]\n",
      "> diff 05 segment_ind [1]\n",
      "> diff 06 segment_ind [2]\n",
      "> diff 07 segment_ind [3]\n",
      "> diff 08 segment_ind [0]\n",
      "> diff 09 segment_ind [1]\n",
      "> diff 10 segment_ind [2]\n",
      "> diff 11 segment_ind [3]\n",
      "> diff 12 segment_ind [0]\n",
      "> diff 13 segment_ind [1]\n",
      "> diff 14 segment_ind [2]\n",
      "> diff 15 segment_ind [3]\n",
      "> diff 16 segment_ind [0]\n",
      "> diff 17 segment_ind [1]\n",
      "> diff 18 segment_ind [2]\n",
      "> diff 19 segment_ind [3]\n"
     ]
    }
   ],
   "source": [
    "N_segments_retro = 1\n",
    "\n",
    "N_Accel_PE_retro = N_segments // N_segments_retro\n",
    "\n",
    "kdat_retr_shape = [kdat_prep.shape[0]] + [N_segments_retro] + list(kdat_prep.shape[2:])\n",
    "\n",
    "print('> kdat_retr_shape: ', kdat_retr_shape)\n",
    "\n",
    "# shift 1 !!!\n",
    "kdat_retr1 = np.zeros_like(kdat_prep, shape=kdat_retr_shape)\n",
    "for d in range(N_diff):\n",
    "    shift = d % N_Accel_PE_retro\n",
    "    \n",
    "    if N_segments_retro == 1:\n",
    "        segment_ind = [shift]\n",
    "    else:\n",
    "        segment_ind = [shift, N_Accel_PE_retro + shift]\n",
    "    \n",
    "    kdat_retr1[d, ...] = kdat_prep[d, segment_ind, ...]\n",
    "    \n",
    "    print('> diff ' + str(d).zfill(2) + ' segment_ind ' + str(segment_ind))\n",
    "\n",
    "# shift 0 !!!\n",
    "kdat_retr0 = np.zeros_like(kdat_prep, shape=kdat_retr_shape)\n",
    "kdat_retr0 = kdat_prep[:, [0, 3], ...]"
   ]
  },
  {
   "attachments": {},
   "cell_type": "markdown",
   "metadata": {},
   "source": [
    "* plot kdat with shifting"
   ]
  },
  {
   "cell_type": "code",
   "execution_count": 8,
   "metadata": {},
   "outputs": [],
   "source": [
    "f, ax = plt.subplots(N_segments_retro, N_Accel_PE_retro)\n",
    "\n",
    "for m in range(N_segments_retro):\n",
    "    for n in range(N_Accel_PE_retro):\n",
    "        ax[m, n].imshow(abs(np.squeeze(kdat_retr1[n, m, 0, 0, N_y//4:N_y//2, N_x//4:N_x//2])), cmap='gray', vmin=0, vmax=1e-5, interpolation='none')\n",
    "        ax[m, n].set_axis_off()\n",
    "        ax[m, n].set_title('Shot #' + str(m+1) + ' in Diff #' + str(n+1))\n",
    "\n",
    "plt.show()"
   ]
  },
  {
   "attachments": {},
   "cell_type": "markdown",
   "metadata": {},
   "source": [
    "* plot kdat without shifting"
   ]
  },
  {
   "cell_type": "code",
   "execution_count": 8,
   "metadata": {},
   "outputs": [
    {
     "data": {
      "image/png": "[encoded data removed]",
      "text/plain": [
       "<Figure size 640x480 with 4 Axes>"
      ]
     },
     "metadata": {},
     "output_type": "display_data"
    }
   ],
   "source": [
    "f, ax = plt.subplots(N_segments_retro, N_Accel_PE_retro)\n",
    "\n",
    "for m in range(N_segments_retro):\n",
    "    for n in range(N_Accel_PE_retro):\n",
    "        ax[m, n].imshow(abs(np.squeeze(kdat_retr0[n, m, 0, 0, N_y//4:N_y//2, N_x//4:N_x//2])), cmap='gray', vmin=0, vmax=1e-5, interpolation='none')\n",
    "        ax[m, n].set_axis_off()\n",
    "        ax[m, n].set_title('Shot #' + str(m+1) + ' in Diff #' + str(n+1))\n",
    "\n",
    "plt.show()"
   ]
  }
 ],
 "metadata": {
  "kernelspec": {
   "display_name": "sigpy",
   "language": "python",
   "name": "python3"
  },
  "language_info": {
   "codemirror_mode": {
    "name": "ipython",
    "version": 3
   },
   "file_extension": ".py",
   "mimetype": "text/x-python",
   "name": "python",
   "nbconvert_exporter": "python",
   "pygments_lexer": "ipython3",
   "version": "3.9.16"
  },
  "orig_nbformat": 4
 },
 "nbformat": 4,
 "nbformat_minor": 2
}
